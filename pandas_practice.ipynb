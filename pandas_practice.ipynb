{
 "cells": [
  {
   "cell_type": "markdown",
   "id": "cdf68ed3",
   "metadata": {},
   "source": [
    "시간 비닝\n",
    "| 단위    | Alias            | 의미              |\n",
    "| ----- | ---------------- | --------------- |\n",
    "| 년     | `'Y'`            | 연말 기준 (12월 31일) |\n",
    "|       | `'YS'`           | 연초 기준 (1월 1일)   |\n",
    "| 분기    | `'Q'`            | 분기 말 기준         |\n",
    "|       | `'QS'`           | 분기 초 기준         |\n",
    "| 월     | `'M'`            | 월말              |\n",
    "|       | `'MS'`           | 월초              |\n",
    "| 주     | `'W'`            | 주말(일요일)         |\n",
    "|       | `'W-MON'`        | 월요일 시작          |\n",
    "| 일     | `'D'`            | 1일              |\n",
    "| 시     | `'H'`            | 1시간             |\n",
    "| 분     | `'T'` 또는 `'min'` | 1분              |\n",
    "| 초     | `'S'`            | 1초              |\n",
    "| 밀리초   | `'L'` 또는 `'ms'`  | 1밀리초            |\n",
    "| 마이크로초 | `'U'`            | 1마이크로초          |\n",
    "| 나노초   | `'N'`            | 1나노초            |\n"
   ]
  },
  {
   "cell_type": "code",
   "execution_count": 6,
   "id": "a7899f67",
   "metadata": {},
   "outputs": [
    {
     "name": "stdout",
     "output_type": "stream",
     "text": [
      "                 time  elapsed_min  time_bin\n",
      "0 2024-01-01 00:00:00          0.0       NaN\n",
      "1 2024-01-01 01:00:00         60.0       3.0\n",
      "2 2024-01-01 02:00:00        120.0       NaN\n",
      "3 2024-01-01 03:00:00        180.0       NaN\n",
      "4 2024-01-01 04:00:00        240.0       NaN\n",
      "5 2024-01-01 05:00:00        300.0       NaN\n",
      "6 2024-01-01 06:00:00        360.0       NaN\n",
      "7 2024-01-01 07:00:00        420.0       NaN\n",
      "8 2024-01-01 08:00:00        480.0       NaN\n",
      "9 2024-01-01 09:00:00        540.0       NaN\n"
     ]
    }
   ],
   "source": [
    "import pandas as pd\n",
    "\n",
    "# 예제 데이터 (1분 간격)\n",
    "df = pd.DataFrame({\n",
    "    \"time\": pd.date_range(\"2024-01-01 00:00:00\", periods=10, freq=\"h\")\n",
    "})\n",
    "\n",
    "# 시작 시각을 기준으로 경과 시간(초) 계산\n",
    "start_time = df[\"time\"].min()\n",
    "df[\"elapsed_min\"] = (df[\"time\"] - start_time).dt.total_seconds() / 60\n",
    "\n",
    "# 15분 단위 binning\n",
    "df[\"time_bin\"] = pd.cut(df[\"elapsed_min\"], bins=range(0, 61, 15), labels=False)\n",
    "\n",
    "print(df)"
   ]
  },
  {
   "cell_type": "code",
   "execution_count": 7,
   "id": "db04ba4c",
   "metadata": {},
   "outputs": [
    {
     "name": "stdout",
     "output_type": "stream",
     "text": [
      "                     value\n",
      "time                      \n",
      "2024-01-01 00:00:00    7.0\n",
      "2024-01-01 00:15:00   22.0\n",
      "2024-01-01 00:30:00   37.0\n",
      "2024-01-01 00:45:00   52.0\n",
      "2024-01-01 01:00:00   67.0\n",
      "2024-01-01 01:15:00   82.0\n",
      "2024-01-01 01:30:00   94.5\n"
     ]
    },
    {
     "name": "stderr",
     "output_type": "stream",
     "text": [
      "/var/folders/hv/lqp1gn9n1ll0lbh2pfzn9pww0000gn/T/ipykernel_3075/4186342798.py:5: FutureWarning: 'T' is deprecated and will be removed in a future version, please use 'min' instead.\n",
      "  \"time\": pd.date_range(\"2024-01-01 00:00\", periods=100, freq=\"T\"),\n",
      "/var/folders/hv/lqp1gn9n1ll0lbh2pfzn9pww0000gn/T/ipykernel_3075/4186342798.py:10: FutureWarning: 'T' is deprecated and will be removed in a future version, please use 'min' instead.\n",
      "  result = df.groupby(pd.Grouper(key=\"time\", freq=\"15T\")).mean()\n"
     ]
    }
   ],
   "source": [
    "import pandas as pd\n",
    "\n",
    "# 예제 데이터 (1분 간격, 10개)\n",
    "df = pd.DataFrame({\n",
    "    \"time\": pd.date_range(\"2024-01-01 00:00\", periods=100, freq=\"T\"),\n",
    "    \"value\": range(100)\n",
    "})\n",
    "\n",
    "# 15분 단위 그룹핑 → 평균 계산\n",
    "result = df.groupby(pd.Grouper(key=\"time\", freq=\"15T\")).mean()\n",
    "print(result)\n"
   ]
  },
  {
   "cell_type": "code",
   "execution_count": null,
   "id": "b6fd5a11",
   "metadata": {},
   "outputs": [],
   "source": []
  }
 ],
 "metadata": {
  "kernelspec": {
   "display_name": "general",
   "language": "python",
   "name": "python3"
  },
  "language_info": {
   "codemirror_mode": {
    "name": "ipython",
    "version": 3
   },
   "file_extension": ".py",
   "mimetype": "text/x-python",
   "name": "python",
   "nbconvert_exporter": "python",
   "pygments_lexer": "ipython3",
   "version": "3.11.0"
  }
 },
 "nbformat": 4,
 "nbformat_minor": 5
}
