{
 "cells": [
  {
   "cell_type": "markdown",
   "id": "6e59bd63",
   "metadata": {},
   "source": [
    "python -m venv venv\n",
    "\n",
    "your_project/\n",
    "├── venv/\n",
    "│   ├── bin/ (또는 Scripts/)\n",
    "│   ├── lib/\n",
    "│   └── pyvenv.cfg\n",
    "├── main.py\n",
    "\n",
    "| OS                       | 명령어                         | 비고                       |\n",
    "| ------------------------ | --------------------------- | ------------------------ |\n",
    "| **Windows (cmd)**        | `venv\\Scripts\\activate`     | 프롬프트 앞에 `(venv)` 표시됨     |\n",
    "| **Windows (PowerShell)** | `venv\\Scripts\\Activate.ps1` | (보안 정책 오류 시 → 아래 참고)     |\n",
    "| **Mac/Linux (bash/zsh)** | `source venv/bin/activate`  | or `. venv/bin/activate` |\n",
    "\n",
    "(venv) C:\\Users\\you\\project>\n",
    "PowerShell에서 이런 에러가 뜰 수 있어요:\n",
    "execution of scripts is disabled on this system\n",
    "→ 아래 명령으로 스크립트 실행 허용:\n",
    "Set-ExecutionPolicy RemoteSigned -Scope CurrentUser\n",
    "\n",
    "\n",
    "deactivate\n"
   ]
  }
 ],
 "metadata": {
  "language_info": {
   "name": "python"
  }
 },
 "nbformat": 4,
 "nbformat_minor": 5
}
